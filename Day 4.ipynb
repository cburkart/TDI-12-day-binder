{
 "cells": [
  {
   "cell_type": "markdown",
   "id": "6039d746",
   "metadata": {},
   "source": [
    "## Milestone Action Items\n",
    "\n",
    "Download the data set about Value of Energy Cost Saving Program for businesses in New York City (under the \"Export\" option, there is a way to retrieve a CSV file). Answer the following questions.\n",
    "\n",
    "1. How many different companies are represented in the data set?\n",
    "2. What is the total number of jobs created for businesses in Queens?\n",
    "3. How many different unique email domains names are there in the data set?\n",
    "4. Considering only NTAs with at least 5 listed businesses, what is the average total savings and the total jobs created for each NTA?\n",
    "5. Save your result for the previous question as a CSV file."
   ]
  },
  {
   "cell_type": "code",
   "execution_count": 1,
   "id": "3c83c281",
   "metadata": {},
   "outputs": [],
   "source": [
    "import pandas as pd"
   ]
  },
  {
   "cell_type": "code",
   "execution_count": 2,
   "id": "cfd75ce6",
   "metadata": {},
   "outputs": [],
   "source": [
    "df = pd.read_csv('Value_of_Energy_Cost_Savings_Program_Savings_for_Businesses_-_FY2020.csv')"
   ]
  },
  {
   "cell_type": "code",
   "execution_count": 5,
   "id": "67364d0f",
   "metadata": {},
   "outputs": [
    {
     "data": {
      "text/plain": [
       "Company Name                                  object\n",
       "company contact                               object\n",
       "company email                                 object\n",
       "company phone                                 object\n",
       "Address                                       object\n",
       "City                                          object\n",
       "State                                         object\n",
       "Postcode                                       int64\n",
       "Industry                                      object\n",
       "Industry descr                                object\n",
       "Company Type                                  object\n",
       "Current fulltime                             float64\n",
       "Job created                                  float64\n",
       "Job retain                                   float64\n",
       "Effective Date                                object\n",
       "Total Savings                                float64\n",
       "Savings from beginning receiving benefits    float64\n",
       "Borough                                       object\n",
       "Latitude                                     float64\n",
       "Longitude                                    float64\n",
       "Community Board                              float64\n",
       "Council District                             float64\n",
       "Census Tract                                 float64\n",
       "BIN                                          float64\n",
       "BBL                                          float64\n",
       "NTA                                           object\n",
       "dtype: object"
      ]
     },
     "execution_count": 5,
     "metadata": {},
     "output_type": "execute_result"
    }
   ],
   "source": [
    "df.dtypes"
   ]
  },
  {
   "cell_type": "code",
   "execution_count": 6,
   "id": "00b56350",
   "metadata": {},
   "outputs": [
    {
     "data": {
      "text/html": [
       "<div>\n",
       "<style scoped>\n",
       "    .dataframe tbody tr th:only-of-type {\n",
       "        vertical-align: middle;\n",
       "    }\n",
       "\n",
       "    .dataframe tbody tr th {\n",
       "        vertical-align: top;\n",
       "    }\n",
       "\n",
       "    .dataframe thead th {\n",
       "        text-align: right;\n",
       "    }\n",
       "</style>\n",
       "<table border=\"1\" class=\"dataframe\">\n",
       "  <thead>\n",
       "    <tr style=\"text-align: right;\">\n",
       "      <th></th>\n",
       "      <th>Company Name</th>\n",
       "      <th>company contact</th>\n",
       "      <th>company email</th>\n",
       "      <th>company phone</th>\n",
       "      <th>Address</th>\n",
       "      <th>City</th>\n",
       "      <th>State</th>\n",
       "      <th>Postcode</th>\n",
       "      <th>Industry</th>\n",
       "      <th>Industry descr</th>\n",
       "      <th>...</th>\n",
       "      <th>Savings from beginning receiving benefits</th>\n",
       "      <th>Borough</th>\n",
       "      <th>Latitude</th>\n",
       "      <th>Longitude</th>\n",
       "      <th>Community Board</th>\n",
       "      <th>Council District</th>\n",
       "      <th>Census Tract</th>\n",
       "      <th>BIN</th>\n",
       "      <th>BBL</th>\n",
       "      <th>NTA</th>\n",
       "    </tr>\n",
       "  </thead>\n",
       "  <tbody>\n",
       "    <tr>\n",
       "      <th>0</th>\n",
       "      <td>1 State Street</td>\n",
       "      <td>David Neiburg</td>\n",
       "      <td>eskoblo@energyspec.com</td>\n",
       "      <td>7186779077</td>\n",
       "      <td>1114 Avenue J</td>\n",
       "      <td>Brooklyn</td>\n",
       "      <td>NY</td>\n",
       "      <td>11230</td>\n",
       "      <td>Commercial</td>\n",
       "      <td>35 story building</td>\n",
       "      <td>...</td>\n",
       "      <td>349.78</td>\n",
       "      <td>Brooklyn</td>\n",
       "      <td>40.624784</td>\n",
       "      <td>-73.964920</td>\n",
       "      <td>314.0</td>\n",
       "      <td>44.0</td>\n",
       "      <td>534.0</td>\n",
       "      <td>3179818.0</td>\n",
       "      <td>3.067130e+09</td>\n",
       "      <td>Midwood</td>\n",
       "    </tr>\n",
       "    <tr>\n",
       "      <th>1</th>\n",
       "      <td>100 Church LLC</td>\n",
       "      <td>Edward A. Carroll</td>\n",
       "      <td>NaN</td>\n",
       "      <td>2125663000</td>\n",
       "      <td>100 Church Street</td>\n",
       "      <td>NY</td>\n",
       "      <td>NY</td>\n",
       "      <td>10007</td>\n",
       "      <td>Commercial</td>\n",
       "      <td>21 Floors</td>\n",
       "      <td>...</td>\n",
       "      <td>4423698.05</td>\n",
       "      <td>New York</td>\n",
       "      <td>40.712968</td>\n",
       "      <td>-74.009490</td>\n",
       "      <td>101.0</td>\n",
       "      <td>1.0</td>\n",
       "      <td>21.0</td>\n",
       "      <td>1001409.0</td>\n",
       "      <td>1.001250e+09</td>\n",
       "      <td>SoHo-TriBeCa-Civic Center-Little Italy</td>\n",
       "    </tr>\n",
       "    <tr>\n",
       "      <th>2</th>\n",
       "      <td>100 Wall Investments</td>\n",
       "      <td>Jerry Branam</td>\n",
       "      <td>NaN</td>\n",
       "      <td>2122487160</td>\n",
       "      <td>96 Wall Street</td>\n",
       "      <td>New York</td>\n",
       "      <td>NY</td>\n",
       "      <td>10005</td>\n",
       "      <td>Landlord</td>\n",
       "      <td>NaN</td>\n",
       "      <td>...</td>\n",
       "      <td>1814542.62</td>\n",
       "      <td>New York</td>\n",
       "      <td>40.705052</td>\n",
       "      <td>-74.007199</td>\n",
       "      <td>101.0</td>\n",
       "      <td>1.0</td>\n",
       "      <td>7.0</td>\n",
       "      <td>1000875.0</td>\n",
       "      <td>1.000380e+09</td>\n",
       "      <td>Battery Park City-Lower Manhattan</td>\n",
       "    </tr>\n",
       "    <tr>\n",
       "      <th>3</th>\n",
       "      <td>1-10 Bush Terminal Owner LP</td>\n",
       "      <td>Andrew Kimball</td>\n",
       "      <td>akimball@industrycity.com</td>\n",
       "      <td>3474178429</td>\n",
       "      <td>220 36th St, Suite 2A</td>\n",
       "      <td>Brooklyn</td>\n",
       "      <td>NY</td>\n",
       "      <td>11232</td>\n",
       "      <td>Landlord</td>\n",
       "      <td>Special Eligible Premises for eligible businesses</td>\n",
       "      <td>...</td>\n",
       "      <td>6755.31</td>\n",
       "      <td>Brooklyn</td>\n",
       "      <td>40.656061</td>\n",
       "      <td>-74.007334</td>\n",
       "      <td>307.0</td>\n",
       "      <td>38.0</td>\n",
       "      <td>2.0</td>\n",
       "      <td>3398687.0</td>\n",
       "      <td>3.006950e+09</td>\n",
       "      <td>Sunset Park West</td>\n",
       "    </tr>\n",
       "    <tr>\n",
       "      <th>4</th>\n",
       "      <td>120 Broadway Acquisitions JV, LLC (Ldmk)</td>\n",
       "      <td>Carl Letich</td>\n",
       "      <td>clettich@silvprop.com</td>\n",
       "      <td>2124064020</td>\n",
       "      <td>120 Broadway</td>\n",
       "      <td>New York</td>\n",
       "      <td>NY</td>\n",
       "      <td>10271</td>\n",
       "      <td>Commercial</td>\n",
       "      <td>NaN</td>\n",
       "      <td>...</td>\n",
       "      <td>3293055.08</td>\n",
       "      <td>New York</td>\n",
       "      <td>40.708546</td>\n",
       "      <td>-74.011041</td>\n",
       "      <td>101.0</td>\n",
       "      <td>1.0</td>\n",
       "      <td>7.0</td>\n",
       "      <td>1001026.0</td>\n",
       "      <td>1.000478e+09</td>\n",
       "      <td>Battery Park City-Lower Manhattan</td>\n",
       "    </tr>\n",
       "  </tbody>\n",
       "</table>\n",
       "<p>5 rows × 26 columns</p>\n",
       "</div>"
      ],
      "text/plain": [
       "                               Company Name    company contact  \\\n",
       "0                            1 State Street      David Neiburg   \n",
       "1                            100 Church LLC  Edward A. Carroll   \n",
       "2                      100 Wall Investments       Jerry Branam   \n",
       "3               1-10 Bush Terminal Owner LP     Andrew Kimball   \n",
       "4  120 Broadway Acquisitions JV, LLC (Ldmk)        Carl Letich   \n",
       "\n",
       "               company email company phone                Address      City  \\\n",
       "0     eskoblo@energyspec.com    7186779077          1114 Avenue J  Brooklyn   \n",
       "1                        NaN    2125663000      100 Church Street        NY   \n",
       "2                        NaN    2122487160         96 Wall Street  New York   \n",
       "3  akimball@industrycity.com    3474178429  220 36th St, Suite 2A  Brooklyn   \n",
       "4      clettich@silvprop.com    2124064020           120 Broadway  New York   \n",
       "\n",
       "  State  Postcode    Industry  \\\n",
       "0    NY     11230  Commercial   \n",
       "1    NY     10007  Commercial   \n",
       "2    NY     10005    Landlord   \n",
       "3    NY     11232    Landlord   \n",
       "4    NY     10271  Commercial   \n",
       "\n",
       "                                      Industry descr  ...  \\\n",
       "0                                  35 story building  ...   \n",
       "1                                          21 Floors  ...   \n",
       "2                                                NaN  ...   \n",
       "3  Special Eligible Premises for eligible businesses  ...   \n",
       "4                                                NaN  ...   \n",
       "\n",
       "  Savings from beginning receiving benefits   Borough   Latitude  Longitude  \\\n",
       "0                                    349.78  Brooklyn  40.624784 -73.964920   \n",
       "1                                4423698.05  New York  40.712968 -74.009490   \n",
       "2                                1814542.62  New York  40.705052 -74.007199   \n",
       "3                                   6755.31  Brooklyn  40.656061 -74.007334   \n",
       "4                                3293055.08  New York  40.708546 -74.011041   \n",
       "\n",
       "  Community Board  Council District  Census Tract        BIN           BBL  \\\n",
       "0           314.0              44.0         534.0  3179818.0  3.067130e+09   \n",
       "1           101.0               1.0          21.0  1001409.0  1.001250e+09   \n",
       "2           101.0               1.0           7.0  1000875.0  1.000380e+09   \n",
       "3           307.0              38.0           2.0  3398687.0  3.006950e+09   \n",
       "4           101.0               1.0           7.0  1001026.0  1.000478e+09   \n",
       "\n",
       "                                      NTA  \n",
       "0                                 Midwood  \n",
       "1  SoHo-TriBeCa-Civic Center-Little Italy  \n",
       "2       Battery Park City-Lower Manhattan  \n",
       "3                        Sunset Park West  \n",
       "4       Battery Park City-Lower Manhattan  \n",
       "\n",
       "[5 rows x 26 columns]"
      ]
     },
     "execution_count": 6,
     "metadata": {},
     "output_type": "execute_result"
    }
   ],
   "source": [
    "df.head()"
   ]
  },
  {
   "cell_type": "markdown",
   "id": "fefc7a17",
   "metadata": {},
   "source": [
    "### How many different companies are represented in the data set?"
   ]
  },
  {
   "cell_type": "code",
   "execution_count": 7,
   "id": "7f5bfcb6",
   "metadata": {},
   "outputs": [
    {
     "data": {
      "text/plain": [
       "439"
      ]
     },
     "execution_count": 7,
     "metadata": {},
     "output_type": "execute_result"
    }
   ],
   "source": [
    "df['Company Name'].nunique()"
   ]
  },
  {
   "cell_type": "markdown",
   "id": "54bc3c5c",
   "metadata": {},
   "source": [
    "### What is the total number of jobs created for businesses in Queens?"
   ]
  },
  {
   "cell_type": "code",
   "execution_count": 26,
   "id": "52ddaade",
   "metadata": {},
   "outputs": [
    {
     "data": {
      "text/plain": [
       "29     10.0\n",
       "37     60.0\n",
       "137    10.0\n",
       "324     2.0\n",
       "433    20.0\n",
       "Name: Job created, dtype: float64"
      ]
     },
     "execution_count": 26,
     "metadata": {},
     "output_type": "execute_result"
    }
   ],
   "source": [
    "queens_created = df[(df['Job created']>0) & (df['Borough']=='Queens')]['Job created']\n",
    "queens_created"
   ]
  },
  {
   "cell_type": "code",
   "execution_count": 27,
   "id": "8815eb15",
   "metadata": {},
   "outputs": [
    {
     "data": {
      "text/plain": [
       "102.0"
      ]
     },
     "execution_count": 27,
     "metadata": {},
     "output_type": "execute_result"
    }
   ],
   "source": [
    "sum(queens_created)"
   ]
  },
  {
   "cell_type": "markdown",
   "id": "66ead49e",
   "metadata": {},
   "source": [
    "### How many different unique email domains names are there in the data set?"
   ]
  },
  {
   "cell_type": "code",
   "execution_count": 78,
   "id": "e2e0e670",
   "metadata": {},
   "outputs": [],
   "source": [
    "def get_domain(address):\n",
    "    \"\"\"\n",
    "    Take in an e-mail address and return the domain\n",
    "    Need to account for improperly entered addresses (e.g. missing domain) \n",
    "    \"\"\"\n",
    "    raw_addr = address.split('@')\n",
    "    if len(raw_addr)>1:\n",
    "        return(raw_addr[1])\n",
    "\n",
    "# Remove missing emails\n",
    "emails = df['company email'].dropna()"
   ]
  },
  {
   "cell_type": "code",
   "execution_count": 79,
   "id": "52c33bb5",
   "metadata": {},
   "outputs": [],
   "source": [
    "domains = emails.apply(get_domain)"
   ]
  },
  {
   "cell_type": "code",
   "execution_count": 81,
   "id": "5a54a4eb",
   "metadata": {},
   "outputs": [
    {
     "data": {
      "text/plain": [
       "357"
      ]
     },
     "execution_count": 81,
     "metadata": {},
     "output_type": "execute_result"
    }
   ],
   "source": [
    "len(domains.unique())"
   ]
  },
  {
   "cell_type": "markdown",
   "id": "747b591d",
   "metadata": {},
   "source": [
    "### Considering only NTAs with at least 5 listed businesses, what is the average total savings and the total jobs created for each NTA?"
   ]
  },
  {
   "cell_type": "code",
   "execution_count": 130,
   "id": "13e19562",
   "metadata": {},
   "outputs": [],
   "source": [
    "five_plus = df.groupby('NTA').count()['Company Name']>=5\n",
    "\n",
    "fiveplus_ntas = five_plus.index[five_plus==True].values\n",
    "\n",
    "df_5plus = df[df['NTA'].isin(fiveplus_ntas)]"
   ]
  },
  {
   "cell_type": "code",
   "execution_count": 173,
   "id": "51a9dca1",
   "metadata": {},
   "outputs": [
    {
     "data": {
      "text/plain": [
       "NTA\n",
       "Battery Park City-Lower Manhattan                   469890.796667\n",
       "Bushwick South                                       26140.455000\n",
       "Carroll Gardens-Columbia Street-Red Hook             24337.390000\n",
       "College Point                                        17159.372857\n",
       "Crown Heights North                                   4036.298889\n",
       "DUMBO-Vinegar Hill-Downtown Brooklyn-Boerum Hill     59950.340000\n",
       "East New York                                        48433.093333\n",
       "East Williamsburg                                    13990.626364\n",
       "Greenpoint                                            9753.649286\n",
       "Hunters Point-Sunnyside-West Maspeth                 23931.398933\n",
       "Hunts Point                                          39246.016154\n",
       "Manhattanville                                        2760.888889\n",
       "Maspeth                                               6658.283333\n",
       "Mott Haven-Port Morris                               17843.937857\n",
       "Queensbridge-Ravenswood-Long Island City             61830.770625\n",
       "SoHo-TriBeCa-Civic Center-Little Italy               37214.024000\n",
       "Springfield Gardens South-Brookville                 17757.662000\n",
       "Steinway                                             11227.155714\n",
       "Sunset Park West                                     14316.976875\n",
       "park-cemetery-etc-Brooklyn                           14327.419333\n",
       "Name: Total Savings, dtype: float64"
      ]
     },
     "execution_count": 173,
     "metadata": {},
     "output_type": "execute_result"
    }
   ],
   "source": [
    "mean_ts = df_5plus.groupby('NTA').mean()['Total Savings']\n",
    "mean_ts"
   ]
  },
  {
   "cell_type": "code",
   "execution_count": 175,
   "id": "6ea8d16b",
   "metadata": {},
   "outputs": [
    {
     "name": "stdout",
     "output_type": "stream",
     "text": [
      "NTA\n",
      "Battery Park City-Lower Manhattan                    0.0\n",
      "Bushwick South                                      10.0\n",
      "Carroll Gardens-Columbia Street-Red Hook             0.0\n",
      "College Point                                        2.0\n",
      "Crown Heights North                                  0.0\n",
      "DUMBO-Vinegar Hill-Downtown Brooklyn-Boerum Hill     0.0\n",
      "East New York                                       15.0\n",
      "East Williamsburg                                    0.0\n",
      "Greenpoint                                           0.0\n",
      "Hunters Point-Sunnyside-West Maspeth                 0.0\n",
      "Hunts Point                                         12.0\n",
      "Manhattanville                                       0.0\n",
      "Maspeth                                             10.0\n",
      "Mott Haven-Port Morris                              10.0\n",
      "Queensbridge-Ravenswood-Long Island City             0.0\n",
      "SoHo-TriBeCa-Civic Center-Little Italy               0.0\n",
      "Springfield Gardens South-Brookville                 0.0\n",
      "Steinway                                            20.0\n",
      "Sunset Park West                                     0.0\n",
      "park-cemetery-etc-Brooklyn                           0.0\n",
      "Name: Job created, dtype: float64\n"
     ]
    }
   ],
   "source": [
    "total_jobs = df_5plus.groupby('NTA').sum()['Job created']\n",
    "total_jobs"
   ]
  },
  {
   "cell_type": "code",
   "execution_count": 181,
   "id": "d87340a1",
   "metadata": {},
   "outputs": [],
   "source": [
    "df_output = pd.DataFrame(list(zip(mean_ts, total_jobs)), columns=['Mean Total Savings','Total Jobs Created'], index=total_jobs.index)"
   ]
  },
  {
   "cell_type": "code",
   "execution_count": 182,
   "id": "f9e20ec6",
   "metadata": {},
   "outputs": [
    {
     "data": {
      "text/html": [
       "<div>\n",
       "<style scoped>\n",
       "    .dataframe tbody tr th:only-of-type {\n",
       "        vertical-align: middle;\n",
       "    }\n",
       "\n",
       "    .dataframe tbody tr th {\n",
       "        vertical-align: top;\n",
       "    }\n",
       "\n",
       "    .dataframe thead th {\n",
       "        text-align: right;\n",
       "    }\n",
       "</style>\n",
       "<table border=\"1\" class=\"dataframe\">\n",
       "  <thead>\n",
       "    <tr style=\"text-align: right;\">\n",
       "      <th></th>\n",
       "      <th>Mean Total Savings</th>\n",
       "      <th>Total Jobs Created</th>\n",
       "    </tr>\n",
       "    <tr>\n",
       "      <th>NTA</th>\n",
       "      <th></th>\n",
       "      <th></th>\n",
       "    </tr>\n",
       "  </thead>\n",
       "  <tbody>\n",
       "    <tr>\n",
       "      <th>Battery Park City-Lower Manhattan</th>\n",
       "      <td>469890.796667</td>\n",
       "      <td>0.0</td>\n",
       "    </tr>\n",
       "    <tr>\n",
       "      <th>Bushwick South</th>\n",
       "      <td>26140.455000</td>\n",
       "      <td>10.0</td>\n",
       "    </tr>\n",
       "    <tr>\n",
       "      <th>Carroll Gardens-Columbia Street-Red Hook</th>\n",
       "      <td>24337.390000</td>\n",
       "      <td>0.0</td>\n",
       "    </tr>\n",
       "    <tr>\n",
       "      <th>College Point</th>\n",
       "      <td>17159.372857</td>\n",
       "      <td>2.0</td>\n",
       "    </tr>\n",
       "    <tr>\n",
       "      <th>Crown Heights North</th>\n",
       "      <td>4036.298889</td>\n",
       "      <td>0.0</td>\n",
       "    </tr>\n",
       "    <tr>\n",
       "      <th>DUMBO-Vinegar Hill-Downtown Brooklyn-Boerum Hill</th>\n",
       "      <td>59950.340000</td>\n",
       "      <td>0.0</td>\n",
       "    </tr>\n",
       "    <tr>\n",
       "      <th>East New York</th>\n",
       "      <td>48433.093333</td>\n",
       "      <td>15.0</td>\n",
       "    </tr>\n",
       "    <tr>\n",
       "      <th>East Williamsburg</th>\n",
       "      <td>13990.626364</td>\n",
       "      <td>0.0</td>\n",
       "    </tr>\n",
       "    <tr>\n",
       "      <th>Greenpoint</th>\n",
       "      <td>9753.649286</td>\n",
       "      <td>0.0</td>\n",
       "    </tr>\n",
       "    <tr>\n",
       "      <th>Hunters Point-Sunnyside-West Maspeth</th>\n",
       "      <td>23931.398933</td>\n",
       "      <td>0.0</td>\n",
       "    </tr>\n",
       "    <tr>\n",
       "      <th>Hunts Point</th>\n",
       "      <td>39246.016154</td>\n",
       "      <td>12.0</td>\n",
       "    </tr>\n",
       "    <tr>\n",
       "      <th>Manhattanville</th>\n",
       "      <td>2760.888889</td>\n",
       "      <td>0.0</td>\n",
       "    </tr>\n",
       "    <tr>\n",
       "      <th>Maspeth</th>\n",
       "      <td>6658.283333</td>\n",
       "      <td>10.0</td>\n",
       "    </tr>\n",
       "    <tr>\n",
       "      <th>Mott Haven-Port Morris</th>\n",
       "      <td>17843.937857</td>\n",
       "      <td>10.0</td>\n",
       "    </tr>\n",
       "    <tr>\n",
       "      <th>Queensbridge-Ravenswood-Long Island City</th>\n",
       "      <td>61830.770625</td>\n",
       "      <td>0.0</td>\n",
       "    </tr>\n",
       "    <tr>\n",
       "      <th>SoHo-TriBeCa-Civic Center-Little Italy</th>\n",
       "      <td>37214.024000</td>\n",
       "      <td>0.0</td>\n",
       "    </tr>\n",
       "    <tr>\n",
       "      <th>Springfield Gardens South-Brookville</th>\n",
       "      <td>17757.662000</td>\n",
       "      <td>0.0</td>\n",
       "    </tr>\n",
       "    <tr>\n",
       "      <th>Steinway</th>\n",
       "      <td>11227.155714</td>\n",
       "      <td>20.0</td>\n",
       "    </tr>\n",
       "    <tr>\n",
       "      <th>Sunset Park West</th>\n",
       "      <td>14316.976875</td>\n",
       "      <td>0.0</td>\n",
       "    </tr>\n",
       "    <tr>\n",
       "      <th>park-cemetery-etc-Brooklyn</th>\n",
       "      <td>14327.419333</td>\n",
       "      <td>0.0</td>\n",
       "    </tr>\n",
       "  </tbody>\n",
       "</table>\n",
       "</div>"
      ],
      "text/plain": [
       "                                                  Mean Total Savings  \\\n",
       "NTA                                                                    \n",
       "Battery Park City-Lower Manhattan                      469890.796667   \n",
       "Bushwick South                                          26140.455000   \n",
       "Carroll Gardens-Columbia Street-Red Hook                24337.390000   \n",
       "College Point                                           17159.372857   \n",
       "Crown Heights North                                      4036.298889   \n",
       "DUMBO-Vinegar Hill-Downtown Brooklyn-Boerum Hill        59950.340000   \n",
       "East New York                                           48433.093333   \n",
       "East Williamsburg                                       13990.626364   \n",
       "Greenpoint                                               9753.649286   \n",
       "Hunters Point-Sunnyside-West Maspeth                    23931.398933   \n",
       "Hunts Point                                             39246.016154   \n",
       "Manhattanville                                           2760.888889   \n",
       "Maspeth                                                  6658.283333   \n",
       "Mott Haven-Port Morris                                  17843.937857   \n",
       "Queensbridge-Ravenswood-Long Island City                61830.770625   \n",
       "SoHo-TriBeCa-Civic Center-Little Italy                  37214.024000   \n",
       "Springfield Gardens South-Brookville                    17757.662000   \n",
       "Steinway                                                11227.155714   \n",
       "Sunset Park West                                        14316.976875   \n",
       "park-cemetery-etc-Brooklyn                              14327.419333   \n",
       "\n",
       "                                                  Total Jobs Created  \n",
       "NTA                                                                   \n",
       "Battery Park City-Lower Manhattan                                0.0  \n",
       "Bushwick South                                                  10.0  \n",
       "Carroll Gardens-Columbia Street-Red Hook                         0.0  \n",
       "College Point                                                    2.0  \n",
       "Crown Heights North                                              0.0  \n",
       "DUMBO-Vinegar Hill-Downtown Brooklyn-Boerum Hill                 0.0  \n",
       "East New York                                                   15.0  \n",
       "East Williamsburg                                                0.0  \n",
       "Greenpoint                                                       0.0  \n",
       "Hunters Point-Sunnyside-West Maspeth                             0.0  \n",
       "Hunts Point                                                     12.0  \n",
       "Manhattanville                                                   0.0  \n",
       "Maspeth                                                         10.0  \n",
       "Mott Haven-Port Morris                                          10.0  \n",
       "Queensbridge-Ravenswood-Long Island City                         0.0  \n",
       "SoHo-TriBeCa-Civic Center-Little Italy                           0.0  \n",
       "Springfield Gardens South-Brookville                             0.0  \n",
       "Steinway                                                        20.0  \n",
       "Sunset Park West                                                 0.0  \n",
       "park-cemetery-etc-Brooklyn                                       0.0  "
      ]
     },
     "execution_count": 182,
     "metadata": {},
     "output_type": "execute_result"
    }
   ],
   "source": [
    "df_output"
   ]
  },
  {
   "cell_type": "code",
   "execution_count": 183,
   "id": "a5c8001f",
   "metadata": {},
   "outputs": [],
   "source": [
    "df_output.to_csv('output.csv')"
   ]
  },
  {
   "cell_type": "code",
   "execution_count": null,
   "id": "c659f340",
   "metadata": {},
   "outputs": [],
   "source": []
  }
 ],
 "metadata": {
  "kernelspec": {
   "display_name": "Python 3 (ipykernel)",
   "language": "python",
   "name": "python3"
  },
  "language_info": {
   "codemirror_mode": {
    "name": "ipython",
    "version": 3
   },
   "file_extension": ".py",
   "mimetype": "text/x-python",
   "name": "python",
   "nbconvert_exporter": "python",
   "pygments_lexer": "ipython3",
   "version": "3.9.10"
  }
 },
 "nbformat": 4,
 "nbformat_minor": 5
}
